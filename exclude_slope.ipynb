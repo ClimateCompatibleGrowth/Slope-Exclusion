{
 "cells": [
  {
   "cell_type": "markdown",
   "id": "cef78a3b",
   "metadata": {},
   "source": [
    "# **SlopeEXCL - Slope-based Exclusion**\n",
    "This notebook contains Python functions to calculate slope-based exclusions for wind and solar energy site suitability.\n",
    "\n",
    "The key functionalities include:\n",
    "- Preprocessing a Digital Elevation Model (DEM) to compute slope and aspect.\n",
    "- Creating exclusion masks for unsuitable areas based on slope thresholds.\n",
    "- Saving the exclusion results as raster files."
   ]
  },
  {
   "cell_type": "code",
   "execution_count": null,
   "id": "5b549165",
   "metadata": {},
   "outputs": [],
   "source": [
    "import os\n",
    "import numpy as np\n",
    "import rasterio\n",
    "from scipy.ndimage import sobel, gaussian_filter"
   ]
  },
  {
   "cell_type": "markdown",
   "id": "d343732b",
   "metadata": {},
   "source": [
    "## **Function Definitions**\n",
    "These functions perform slope and aspect calculations, create exclusion masks, and save the results."
   ]
  },
  {
   "cell_type": "code",
   "execution_count": 2,
   "id": "1e151d57",
   "metadata": {},
   "outputs": [],
   "source": [
    "def process_dem(dem_path, sigma=1):\n",
    "    \"\"\"\n",
    "    Process a DEM to calculate slope and aspect.\n",
    "    \n",
    "    Args:\n",
    "        dem_path (str): Path to the DEM file.\n",
    "        sigma (float): Standard deviation for Gaussian smoothing.\n",
    "    \n",
    "    Returns:\n",
    "        tuple: Slope, aspect arrays, raster profile, and NoData value.\n",
    "    \"\"\"\n",
    "    with rasterio.open(dem_path) as src:\n",
    "        dem = src.read(1)\n",
    "        profile = src.profile\n",
    "        transform = src.transform\n",
    "        nodata = src.nodata\n",
    "\n",
    "        latitude = transform[5]\n",
    "        pixel_size_m = 90\n",
    "        latitude_correction = np.cos(np.radians(latitude))\n",
    "        pixel_size_x = pixel_size_m * latitude_correction\n",
    "        pixel_size_y = pixel_size_m * latitude_correction\n",
    "\n",
    "        smoothed_dem = gaussian_filter(dem, sigma=sigma)\n",
    "        gradient_x = sobel(smoothed_dem, axis=1) / (2 * pixel_size_x)\n",
    "        gradient_y = sobel(smoothed_dem, axis=0) / (2 * pixel_size_y)\n",
    "\n",
    "        slope = np.degrees(np.arctan(np.sqrt(gradient_x**2 + gradient_y**2)))\n",
    "        aspect = np.degrees(np.arctan2(-gradient_y, gradient_x))\n",
    "        aspect = np.where(aspect < 0, 360 + aspect, aspect)\n",
    "\n",
    "    return slope, aspect, profile, nodata"
   ]
  },
  {
   "cell_type": "markdown",
   "id": "9d619de6",
   "metadata": {},
   "source": [
    "### **Calculate Exclusion Percentages**"
   ]
  },
  {
   "cell_type": "code",
   "execution_count": 3,
   "id": "82b818ae",
   "metadata": {},
   "outputs": [],
   "source": [
    "def calculate_percentage_excluded(mask):\n",
    "    \"\"\"\n",
    "    Calculate the percentage of excluded points.\n",
    "    \n",
    "    Args:\n",
    "        mask (numpy.ndarray): Boolean array indicating excluded areas.\n",
    "    \n",
    "    Returns:\n",
    "        float: Percentage of excluded points.\n",
    "    \"\"\"\n",
    "    total_points = np.prod(mask.shape)\n",
    "    excluded_points = np.sum(mask)\n",
    "    return (excluded_points / total_points) * 100"
   ]
  },
  {
   "cell_type": "markdown",
   "id": "42f3f475",
   "metadata": {},
   "source": [
    "### **Create Combined Exclusion Mask**"
   ]
  },
  {
   "cell_type": "code",
   "execution_count": 4,
   "id": "6b5b6aef",
   "metadata": {},
   "outputs": [],
   "source": [
    "def create_combined_exclusion(dem_path, output_name, solar_nea, solar_s, wind_thresh, sigma=1):\n",
    "    \"\"\"\n",
    "    Generate combined exclusion mask for solar and wind.\n",
    "    \n",
    "    Args:\n",
    "        dem_path (str): Path to the DEM file.\n",
    "        output_name (str): Name of the output file.\n",
    "        solar_nea (float): Slope threshold for north-east-west solar aspects.\n",
    "        solar_s (float): Slope threshold for south solar aspects.\n",
    "        wind_thresh (float): Slope threshold for wind exclusions.\n",
    "        sigma (float): Standard deviation for Gaussian smoothing.\n",
    "    \"\"\"\n",
    "    slope, aspect, profile, nodata = process_dem(dem_path, sigma)\n",
    "\n",
    "    north_east_west_mask = (aspect >= 45) & (aspect <= 135) | (aspect >= 225) & (aspect <= 315)\n",
    "    south_mask = (aspect > 135) & (aspect < 225)\n",
    "    solar_exclusion = (\n",
    "        ((north_east_west_mask) & (slope >= solar_nea)) |\n",
    "        ((south_mask) & (slope >= solar_s))\n",
    "    )\n",
    "    wind_exclusion = slope >= wind_thresh\n",
    "    combined_exclusion = solar_exclusion | wind_exclusion\n",
    "\n",
    "    solar_percentage = calculate_percentage_excluded(solar_exclusion)\n",
    "    wind_percentage = calculate_percentage_excluded(wind_exclusion)\n",
    "    combined_percentage = calculate_percentage_excluded(combined_exclusion)\n",
    "\n",
    "    print(f\"Percentage of points excluded for solar: {solar_percentage:.2f}%\")\n",
    "    print(f\"Percentage of points excluded for wind: {wind_percentage:.2f}%\")\n",
    "    print(f\"Percentage of points excluded (combined): {combined_percentage:.2f}%\")\n",
    "\n",
    "    save_exclusion_raster(combined_exclusion, profile, output_name)"
   ]
  },
  {
   "cell_type": "markdown",
   "id": "3c9549d0",
   "metadata": {},
   "source": [
    "### **Create Solar Exclusion**"
   ]
  },
  {
   "cell_type": "code",
   "execution_count": 5,
   "id": "ffff4f60",
   "metadata": {},
   "outputs": [],
   "source": [
    "def create_solar_exclusion(dem_path, output_name, solar_nea, solar_s, sigma=1):\n",
    "    \"\"\"\n",
    "    Create and save a solar exclusion mask.\n",
    "\n",
    "    This function generates an exclusion mask for solar PV development based on terrain slope and aspect \n",
    "    and saves the result to a raster file.\n",
    "\n",
    "    Args:\n",
    "        dem_path (str): Path to the input DEM file (e.g., a GeoTIFF).\n",
    "        output_name (str): Name of the output raster file.\n",
    "        solar_nea (float): Slope threshold for north, east, and west-facing slopes for solar PV.\n",
    "        solar_s (float): Slope threshold for south-facing slopes for solar PV.\n",
    "        sigma (float): Standard deviation for the Gaussian filter applied to smooth the DEM.\n",
    "\n",
    "    Returns:\n",
    "        None\n",
    "    \"\"\"\n",
    "    slope, aspect, profile, nodata = process_dem(dem_path, sigma)\n",
    "\n",
    "    north_east_west_mask = (aspect >= 45) & (aspect <= 135) | (aspect >= 225) & (aspect <= 315)\n",
    "    south_mask = (aspect > 135) & (aspect < 225)\n",
    "    solar_exclusion = (\n",
    "        ((north_east_west_mask) & (slope >= solar_nea)) |\n",
    "        ((south_mask) & (slope >= solar_s))\n",
    "    )\n",
    "\n",
    "    solar_percentage = calculate_percentage_excluded(solar_exclusion)\n",
    "    print(f\"Percentage of points excluded for solar: {solar_percentage:.2f}%\")\n",
    "\n",
    "    save_exclusion_raster(solar_exclusion, profile, output_name)"
   ]
  },
  {
   "cell_type": "markdown",
   "id": "f4c5e840",
   "metadata": {},
   "source": [
    "### **Create Wind Exclusion**"
   ]
  },
  {
   "cell_type": "code",
   "execution_count": 6,
   "id": "fe02df66",
   "metadata": {},
   "outputs": [],
   "source": [
    "\n",
    "def create_wind_exclusion(dem_path, output_name, wind_thresh, sigma=1):\n",
    "    \"\"\"\n",
    "    Create and save a wind exclusion mask.\n",
    "\n",
    "    This function generates an exclusion mask for wind development based on terrain slope \n",
    "    and saves the result to a raster file.\n",
    "\n",
    "    Args:\n",
    "        dem_path (str): Path to the input DEM file (e.g., a GeoTIFF).\n",
    "        output_name (str): Name of the output raster file.\n",
    "        wind_thresh (float): Slope threshold for wind exclusion.\n",
    "        sigma (float): Standard deviation for the Gaussian filter applied to smooth the DEM.\n",
    "\n",
    "    Returns:\n",
    "        None\n",
    "    \"\"\"\n",
    "    slope, _, profile, nodata = process_dem(dem_path, sigma)\n",
    "\n",
    "    wind_exclusion = slope >= wind_thresh\n",
    "\n",
    "    wind_percentage = calculate_percentage_excluded(wind_exclusion)\n",
    "    print(f\"Percentage of points excluded for wind: {wind_percentage:.2f}%\")\n",
    "\n",
    "    save_exclusion_raster(wind_exclusion, profile, output_name)"
   ]
  },
  {
   "cell_type": "markdown",
   "id": "89c48556",
   "metadata": {},
   "source": [
    "### **Save Exclusion Raster**"
   ]
  },
  {
   "cell_type": "code",
   "execution_count": 7,
   "id": "de956d62",
   "metadata": {},
   "outputs": [],
   "source": [
    "\n",
    "def save_exclusion_raster(mask, profile, output_name):\n",
    "    \"\"\"\n",
    "    Save an exclusion mask to a raster file.\n",
    "\n",
    "    This function writes a boolean mask to a GeoTIFF file, ensuring the mask is saved \n",
    "    as a single-layer raster with the appropriate metadata.\n",
    "\n",
    "    Args:\n",
    "        mask (numpy.ndarray): Boolean array representing the exclusion mask.\n",
    "        profile (dict): Raster profile for the output file (e.g., spatial resolution, projection).\n",
    "        output_name (str): Name of the output raster file.\n",
    "\n",
    "    Returns:\n",
    "        None\n",
    "    \"\"\"\n",
    "    output_folder = \"output\"\n",
    "    os.makedirs(output_folder, exist_ok=True)\n",
    "\n",
    "    output_path = os.path.join(output_folder, output_name)\n",
    "\n",
    "    profile.update(\n",
    "        dtype=rasterio.uint8,\n",
    "        count=1,\n",
    "        compress='deflate',\n",
    "        nodata=0\n",
    "    )\n",
    "    \n",
    "    with rasterio.open(output_path, 'w', **profile) as dst:\n",
    "        dst.write(mask.astype(rasterio.uint8), 1)\n",
    "\n",
    "    print(f\"Exclusion raster saved to {output_path}\")"
   ]
  },
  {
   "cell_type": "markdown",
   "id": "9a0a167b",
   "metadata": {},
   "source": [
    "## **Example Execution**\n",
    "Below is an example of how to use the defined functions to generate a combined exclusion mask.\n"
   ]
  },
  {
   "cell_type": "code",
   "execution_count": 9,
   "id": "646f1955",
   "metadata": {},
   "outputs": [
    {
     "name": "stdout",
     "output_type": "stream",
     "text": [
      "Percentage of points excluded for solar: 16.76%\n",
      "Percentage of points excluded for wind: 23.79%\n",
      "Percentage of points excluded (combined): 24.42%\n",
      "Exclusion raster saved to output\\exclusion_combined.tif\n"
     ]
    }
   ],
   "source": [
    "# Define paths and parameters\n",
    "dem_path = \"data/dem.tif\"  # Path to the DEM file\n",
    "output_name = 'exclusion_combined.tif'  # Output file\n",
    "\n",
    "# Default thresholds for solar and wind exclusions\n",
    "solar_nea = 6.28  # Threshold for north-east-west solar slopes (degrees)\n",
    "solar_s = 33  # Threshold for south solar slopes (degrees)\n",
    "wind_thresh = 8.53  # Threshold for wind slopes (degrees)\n",
    "sigma = 1  # Gaussian smoothing factor\n",
    "\n",
    "# Generate the combined exclusion mask\n",
    "create_combined_exclusion(dem_path, output_name, solar_nea, solar_s, wind_thresh, sigma)"
   ]
  },
  {
   "cell_type": "markdown",
   "id": "2a015b12",
   "metadata": {},
   "source": [
    "After running the code, the exclusion raster will be saved to the `output` directory."
   ]
  }
 ],
 "metadata": {
  "kernelspec": {
   "display_name": "glaes",
   "language": "python",
   "name": "python3"
  },
  "language_info": {
   "codemirror_mode": {
    "name": "ipython",
    "version": 3
   },
   "file_extension": ".py",
   "mimetype": "text/x-python",
   "name": "python",
   "nbconvert_exporter": "python",
   "pygments_lexer": "ipython3",
   "version": "3.10.13"
  }
 },
 "nbformat": 4,
 "nbformat_minor": 5
}
